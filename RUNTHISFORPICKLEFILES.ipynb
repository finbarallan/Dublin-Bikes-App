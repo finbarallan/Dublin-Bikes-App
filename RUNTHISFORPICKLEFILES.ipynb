{
 "cells": [
  {
   "cell_type": "code",
   "execution_count": null,
   "id": "527bd779",
   "metadata": {},
   "outputs": [],
   "source": [
    "from sklearn.ensemble import RandomForestRegressor\n",
    "from sklearn.model_selection import train_test_split\n",
    "from sklearn.metrics import mean_squared_error, mean_absolute_error, r2_score\n",
    "import requests\n",
    "import json\n",
    "import time\n",
    "from datetime import datetime \n",
    "import sqlalchemy as sqla\n",
    "from sqlalchemy import create_engine\n",
    "import csv\n",
    "import pandas as pd\n",
    "import numpy as np\n",
    "import pickle\n",
    "import matplotlib.pyplot as plt"
   ]
  },
  {
   "cell_type": "code",
   "execution_count": null,
   "id": "9b089b82",
   "metadata": {},
   "outputs": [],
   "source": [
    "df = pd.read_csv('cleaned_training_dataset_2.csv')\n",
    "df = df[df['Station'] != 507]"
   ]
  },
  {
   "cell_type": "code",
   "execution_count": null,
   "id": "9000ddf6",
   "metadata": {},
   "outputs": [],
   "source": [
    "stationDataframes = {}\n",
    "for i in sorted(pd.unique(df[\"Station\"].ravel())):\n",
    "    newDB = df[df['Station'] == i]\n",
    "    name = str(i)\n",
    "    stationDataframes[name] = newDB"
   ]
  },
  {
   "cell_type": "code",
   "execution_count": null,
   "id": "c33de7f0",
   "metadata": {},
   "outputs": [],
   "source": [
    "for key, value in stationDataframes.items():\n",
    "    DF = pd.get_dummies(value, columns=['Station','Weather', 'Description', 'Day','Hour'])\n",
    "    X = DF.drop(['Available Bikes', 'Available Stands'], axis=1)\n",
    "    y_bikes = DF['Available Bikes']\n",
    "    y_stands = DF['Available Stands']\n",
    "    \n",
    "    X_train, X_test, y_train_bikes, y_test_bikes, y_train_stands, y_test_stands = train_test_split(X, y_bikes, y_stands, \\\n",
    "                                                    test_size=0.2, random_state=36)\n",
    "    bikesModel = RandomForestRegressor(n_estimators=150, random_state=36)\n",
    "    standsModel = RandomForestRegressor(n_estimators=150, random_state=36)\n",
    "    \n",
    "    bikesModel.fit(X_train, y_train_bikes)\n",
    "    standsModel.fit(X_train, y_train_stands)\n",
    "    \n",
    "    bikesFile = f\"bikes_station_{key}.pkl\"\n",
    "    standsFile =f\"stands_station_{key}.pkl\"\n",
    "    \n",
    "    pickle.dump(bikesModel, open(bikesFile, 'wb'))\n",
    "    pickle.dump(standsModel, open(standsFile, 'wb'))\n",
    "    \n",
    "    y_pred_bikes = bikesModel.predict(X_test)\n",
    "    y_pred_stands = standsModel.predict(X_test)\n",
    "    mse_bikes = mean_squared_error(y_test_bikes, y_pred_bikes)\n",
    "    mse_stands = mean_squared_error(y_test_stands, y_pred_stands)\n",
    "    print(f'Station {key} MSE for available bikes:', mse_bikes)\n",
    "    print(f'Station {key} MSE for available stands:', mse_stands)\n",
    "    print(r2_score(y_test_stands, y_pred_stands))\n",
    "    print(r2_score(y_test_bikes, y_pred_bikes))"
   ]
  }
 ],
 "metadata": {
  "kernelspec": {
   "display_name": "Python 3 (ipykernel)",
   "language": "python",
   "name": "python3"
  },
  "language_info": {
   "codemirror_mode": {
    "name": "ipython",
    "version": 3
   },
   "file_extension": ".py",
   "mimetype": "text/x-python",
   "name": "python",
   "nbconvert_exporter": "python",
   "pygments_lexer": "ipython3",
   "version": "3.9.16"
  }
 },
 "nbformat": 4,
 "nbformat_minor": 5
}
